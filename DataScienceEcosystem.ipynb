{
 "cells": [
  {
   "cell_type": "markdown",
   "metadata": {},
   "source": [
    "<center>\n",
    "    <img src=\"https://cf-courses-data.s3.us.cloud-object-storage.appdomain.cloud/IBMDeveloperSkillsNetwork-DS0105EN-SkillsNetwork/labs/Module2/images/SN_web_lightmode.png\" width=\"300\" alt=\"cognitiveclass.ai logo\">\n",
    "</center>\n"
   ]
  },
  {
   "cell_type": "markdown",
   "metadata": {},
   "source": [
    "Ejercicio 2 - Cree una celda markdown con el título del cuaderno. (1 pto)\n"
   ]
  },
  {
   "cell_type": "markdown",
   "metadata": {},
   "source": [
    "# Data Science Tools and Ecosystem"
   ]
  },
  {
   "cell_type": "markdown",
   "metadata": {},
   "source": [
    "Ejercicio 3 - Cree una celda markdown para una introducción. (1 pto)"
   ]
  },
  {
   "cell_type": "markdown",
   "metadata": {},
   "source": [
    "## Introduction\n",
    "This project is aimed at completing what has been learned in the course following a rubric with a peer grade, then all the items are completed to put what has been learned into practice."
   ]
  },
  {
   "cell_type": "markdown",
   "metadata": {},
   "source": [
    "Ejercicio 4 - Cree una celda markdown para enumerar los lenguajes de la ciencia de datos. (3 ptos)"
   ]
  },
  {
   "cell_type": "markdown",
   "metadata": {},
   "source": [
    "### Lenguages\n",
    "1. Python\n",
    "2. R\n",
    "3. SQL"
   ]
  },
  {
   "cell_type": "markdown",
   "metadata": {},
   "source": [
    "Ejercicio 5 - Cree una celda markdown para listar bibliotecas de ciencia de datos. (3 ptos)"
   ]
  },
  {
   "cell_type": "markdown",
   "metadata": {},
   "source": [
    "### Libraries\n",
    "1. Pandas\n",
    "2. NumPy\n",
    "3. Matplotlib\n",
    "4. Tensorflow\n",
    "5. Pytorch\n",
    "6. Sckit-learn\n",
    "7. datasets\n",
    "8. ggplot\n",
    "9. plotly"
   ]
  },
  {
   "cell_type": "markdown",
   "metadata": {},
   "source": [
    "Ejercicio 6 - Cree una celda markdown con una tabla de herramientas de Ciencia de Datos. (3 ptos)"
   ]
  },
  {
   "cell_type": "markdown",
   "metadata": {},
   "source": [
    "### Data Science Tools\n",
    "\n",
    "| Category                          | Tools             | Description                                               |\n",
    "|-----------------------------------|---------------------------|-----------------------------------------------------------------|\n",
    "| Data manipulation            | Pandas (Python)           | Handling and analyzing data in table-type structures (DataFrames). |\n",
    "| Data manipulation            | dplyr (R)                 | Intuitive data manipulation with functional grammar. |\n",
    "| Data visualization           | Matplotlib (Python)       | Basic library for 2D graphics                              |\n",
    "| Data visualization            | ggplot2 (R)               | Sistema de gráficos basado en gramática visual.                |\n",
    "| Machine Learning                  | Scikit-learn (Python)     | Graphics system based on visual grammar.            |\n",
    "| Machine Learning                  | caret (R)                 | Training and evaluation of ML models.                   |\n",
    "| Deep Learning                     | TensorFlow (Python/R)     | Google Neural Network Framework.                       |\n",
    "| Deep Learning                     | Keras (Python/R)          | High-level API for building Deep Learning models.    |\n",
    "| Version control                     | Git           | Git is an open-source, distributed version control system that allows developers to track and manage changes to their software projects.    |\n",
    "| Version Control                    | GitHub          | GitHub is a web-based platform that uses Git for version control and collaboration on software projects.     |\n",
    "\n",
    "\n",
    "\n"
   ]
  },
  {
   "cell_type": "markdown",
   "metadata": {},
   "source": [
    "Ejercicio 7 - Cree una celda markdown introduciendo ejemplos de expresiones aritméticas. (1 pto)"
   ]
  },
  {
   "cell_type": "markdown",
   "metadata": {},
   "source": [
    "### Examples of arithmetic expressions\n",
    "1. a + b -> addition\n",
    "2. a - b -> subtraction\n",
    "3. a * b -> multiplication\n",
    "4. a / b -> division"
   ]
  },
  {
   "cell_type": "markdown",
   "metadata": {},
   "source": [
    "Ejercicio 8 - Cree una celda de códigopara multiplicar y sumar números. (2 ptos)"
   ]
  },
  {
   "cell_type": "code",
   "execution_count": 7,
   "metadata": {},
   "outputs": [
    {
     "name": "stdout",
     "output_type": "stream",
     "text": [
      "Multiplication and addition of numbers : \n"
     ]
    },
    {
     "name": "stdin",
     "output_type": "stream",
     "text": [
      "Enter the first number 4\n"
     ]
    },
    {
     "name": "stdout",
     "output_type": "stream",
     "text": [
      " The number entered is 4\n"
     ]
    },
    {
     "name": "stdin",
     "output_type": "stream",
     "text": [
      "Enter the second number 6\n"
     ]
    },
    {
     "name": "stdout",
     "output_type": "stream",
     "text": [
      " The number entered is 6\n",
      " The multiplied number is : 24\n",
      "The added number is : 10\n"
     ]
    }
   ],
   "source": [
    "print(\"Multiplication and addition of numbers : \")\n",
    "Num1 = int(input(\"Enter the first number\"))\n",
    "print(\" The number entered is\", Num1)\n",
    "Num2 = int(input(\"Enter the second number\"))\n",
    "print(\" The number entered is\", Num2)\n",
    "\n",
    "print(\" The multiplied number is :\", Num1*Num2)\n",
    "print(\"The added number is :\", Num1+Num2)\n"
   ]
  },
  {
   "cell_type": "markdown",
   "metadata": {},
   "source": [
    "Ejercicio 9 - Cree una celda de código para convertir minutos en horas. (2 ptos)"
   ]
  },
  {
   "cell_type": "code",
   "execution_count": 8,
   "metadata": {},
   "outputs": [
    {
     "name": "stdout",
     "output_type": "stream",
     "text": [
      "Program to change minutes to hours\n"
     ]
    },
    {
     "name": "stdin",
     "output_type": "stream",
     "text": [
      "Enter the number of minutes 243\n"
     ]
    },
    {
     "name": "stdout",
     "output_type": "stream",
     "text": [
      "The number of minutes entered to hours converted is:  4.05\n"
     ]
    }
   ],
   "source": [
    "print(\"Program to change minutes to hours\")\n",
    "hour = 60\n",
    "min = float(input(\"Enter the number of minutes\"))\n",
    "print(\"The number of minutes entered to hours converted is: \", min/hour)\n",
    "\n"
   ]
  },
  {
   "cell_type": "markdown",
   "metadata": {},
   "source": [
    "Ejercicio 10 -Inserte una celda de código para listar Objetivos. (3 pts)"
   ]
  },
  {
   "cell_type": "code",
   "execution_count": 4,
   "metadata": {},
   "outputs": [
    {
     "name": "stdout",
     "output_type": "stream",
     "text": [
      "Goals\n",
      "1. Complete all required items. \n",
      "2. Apply the knowledge you've learned. \n",
      "3. Learn how to use Jupyter. \n"
     ]
    }
   ],
   "source": [
    "print(\"Goals\")\n",
    "print(\"1. Complete all required items. \")\n",
    "print(\"2. Apply the knowledge you've learned. \")\n",
    "print(\"3. Learn how to use Jupyter. \")"
   ]
  },
  {
   "cell_type": "markdown",
   "metadata": {},
   "source": [
    "Ejercicio 11 - Cree una celda markdown para indicar el nombre del Autor. (2 ptos)"
   ]
  },
  {
   "cell_type": "markdown",
   "metadata": {},
   "source": [
    "### Author: Brahian Gabriel Pulido Espinosa"
   ]
  }
 ],
 "metadata": {
  "kernelspec": {
   "display_name": "Python [conda env:base] *",
   "language": "python",
   "name": "conda-base-py"
  },
  "language_info": {
   "codemirror_mode": {
    "name": "ipython",
    "version": 3
   },
   "file_extension": ".py",
   "mimetype": "text/x-python",
   "name": "python",
   "nbconvert_exporter": "python",
   "pygments_lexer": "ipython3",
   "version": "3.13.5"
  }
 },
 "nbformat": 4,
 "nbformat_minor": 4
}
